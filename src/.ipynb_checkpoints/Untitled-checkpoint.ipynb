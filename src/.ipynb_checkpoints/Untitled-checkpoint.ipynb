{
 "cells": [
  {
   "cell_type": "code",
   "execution_count": 104,
   "id": "b2b767b2-ac31-415d-871d-31e231aed824",
   "metadata": {},
   "outputs": [],
   "source": [
    "from dodal.devices.i10.id_apple2 import convert_csv_to_lookup\n",
    "from typing import Any"
   ]
  },
  {
   "cell_type": "code",
   "execution_count": 20,
   "id": "9de0be36-54e9-4572-8878-461951aa8e2a",
   "metadata": {},
   "outputs": [],
   "source": [
    "import numpy as np"
   ]
  },
  {
   "cell_type": "code",
   "execution_count": 106,
   "id": "801358db-d3b6-4118-b631-bf0182c86271",
   "metadata": {
    "scrolled": true
   },
   "outputs": [],
   "source": [
    "k= convert_csv_to_lookup(file=\"/workspaces/dodal/tests/devices/i10/lookupTables/IDEnergy2GapCalibrations.csv\", source=(\"Source\",\"idu\"))"
   ]
  },
  {
   "cell_type": "code",
   "execution_count": 112,
   "id": "cfed326c-216b-43c1-905f-aa2471c6e9d9",
   "metadata": {},
   "outputs": [],
   "source": [
    "from pydantic import BaseModel, create_model,ConfigDict, ValidationError"
   ]
  },
  {
   "cell_type": "code",
   "execution_count": 107,
   "id": "b8499431-6c1d-4c36-acc9-9e11623d8182",
   "metadata": {},
   "outputs": [
    {
     "data": {
      "text/plain": [
       "{'lh': {'Energies': {'255.3': {'Low': 255.3,\n",
       "    'High': 513.28,\n",
       "    'Poly': poly1d([ 4.33435e-08, -7.52562e-05,  6.41791e-02,  3.88755e+00])},\n",
       "   '513.28': {'Low': 513.28,\n",
       "    'High': 771.545,\n",
       "    'Poly': poly1d([ 1.04394e-08, -2.61385e-05,  3.93435e-02,  8.14960e+00])},\n",
       "   '771.545': {'Low': 771.545,\n",
       "    'High': 1027.52,\n",
       "    'Poly': poly1d([ 9.55013e-09, -2.51296e-05,  3.93892e-02,  7.92050e+00])},\n",
       "   '1027.52': {'Low': 1027.52,\n",
       "    'High': 1282.59,\n",
       "    'Poly': poly1d([ 1.04932e-08, -2.84144e-05,  4.30451e-02,  6.60845e+00])},\n",
       "   '1282.59': {'Low': 1282.59,\n",
       "    'High': 1700.0,\n",
       "    'Poly': poly1d([ 8.26909e-08, -3.14196e-04,  4.21009e-01, -1.60378e+02])}},\n",
       "  'Limit': {'Minimum': 255.3, 'Maximum': 1700.0}},\n",
       " 'lv': {'Energies': {'521.99': {'Low': 521.99,\n",
       "    'High': 734.983,\n",
       "    'Poly': poly1d([ 1.67544e-09, -6.57463e-06,  2.02971e-02,  6.96008e+00])},\n",
       "   '734.983': {'Low': 734.983,\n",
       "    'High': 932.69,\n",
       "    'Poly': poly1d([ 2.32314e-09, -5.82037e-06,  1.81492e-02,  7.87490e+00])},\n",
       "   '932.69': {'Low': 932.69,\n",
       "    'High': 1129.16,\n",
       "    'Poly': poly1d([ 8.33737e-09, -2.22386e-05,  3.31944e-02,  3.24578e+00])},\n",
       "   '1129.16': {'Low': 1129.16,\n",
       "    'High': 1325.74,\n",
       "    'Poly': poly1d([ 1.91056e-08, -6.01726e-05,  7.77255e-02, -1.41739e+01])},\n",
       "   '1325.74': {'Low': 1325.74,\n",
       "    'High': 1700.0,\n",
       "    'Poly': poly1d([ 8.03864e-08, -3.12082e-04,  4.23051e-01, -1.72027e+02])}},\n",
       "  'Limit': {'Minimum': 521.99, 'Maximum': 1700.0}},\n",
       " 'pc': {'Energies': {'418.566': {'Low': 418.566,\n",
       "    'High': 637.695,\n",
       "    'Poly': poly1d([ 1.35966e-08, -2.99885e-05,  3.68795e-02,  5.13046e+00])},\n",
       "   '637.695': {'Low': 637.695,\n",
       "    'High': 855.483,\n",
       "    'Poly': poly1d([ 6.54757e-09, -1.67934e-05,  2.85808e-02,  6.88328e+00])},\n",
       "   '855.483': {'Low': 855.483,\n",
       "    'High': 1071.32,\n",
       "    'Poly': poly1d([ 7.21330e-09, -1.90157e-05,  3.09807e-02,  6.03968e+00])},\n",
       "   '1071.32': {'Low': 1071.32,\n",
       "    'High': 1287.03,\n",
       "    'Poly': poly1d([ 1.57511e-08, -4.76693e-05,  6.30626e-02, -5.94187e+00])},\n",
       "   '1287.03': {'Low': 1287.03,\n",
       "    'High': 1700.0,\n",
       "    'Poly': poly1d([ 5.53938e-08, -2.04650e-04,  2.70486e-01, -9.73851e+01])}},\n",
       "  'Limit': {'Minimum': 418.566, 'Maximum': 1700.0}},\n",
       " 'nc': {'Energies': {'426.626': {'Low': 426.626,\n",
       "    'High': 646.014,\n",
       "    'Poly': poly1d([ 1.28076e-08, -2.86867e-05,  3.61496e-02,  5.26037e+00])},\n",
       "   '646.014': {'Low': 646.014,\n",
       "    'High': 863.674,\n",
       "    'Poly': poly1d([ 7.57955e-09, -1.92019e-05,  3.04420e-02,  6.39722e+00])},\n",
       "   '863.674': {'Low': 863.674,\n",
       "    'High': 1079.84,\n",
       "    'Poly': poly1d([ 5.92247e-09, -1.52587e-05,  2.73263e-02,  7.21445e+00])},\n",
       "   '1079.84': {'Low': 1079.84,\n",
       "    'High': 1295.74,\n",
       "    'Poly': poly1d([ 1.65398e-08, -5.06815e-05,  6.68457e-02, -7.52454e+00])},\n",
       "   '1295.74': {'Low': 1295.74,\n",
       "    'High': 1700.0,\n",
       "    'Poly': poly1d([ 5.77565e-08, -2.15111e-04,  2.85830e-01, -1.04872e+02])}},\n",
       "  'Limit': {'Minimum': 426.626, 'Maximum': 1700.0}},\n",
       " 'lh3': {'Energies': {'769.119': {'Low': 769.119,\n",
       "    'High': 1028.01,\n",
       "    'Poly': poly1d([ 3.62736e-09, -1.44570e-05,  2.74816e-02,  1.83429e+00])},\n",
       "   '1028.01': {'Low': 1028.01,\n",
       "    'High': 1286.16,\n",
       "    'Poly': poly1d([ 1.69557e-09, -8.56945e-06,  2.14904e-02,  3.87065e+00])},\n",
       "   '1286.16': {'Low': 1286.16,\n",
       "    'High': 1544.17,\n",
       "    'Poly': poly1d([ 5.94806e-10, -4.20572e-06,  1.57398e-02,  6.38981e+00])},\n",
       "   '1544.17': {'Low': 1544.17,\n",
       "    'High': 1794.62,\n",
       "    'Poly': poly1d([ 5.17381e-09, -2.58804e-05,  4.99948e-02, -1.16837e+01])},\n",
       "   '1794.62': {'Low': 1794.62,\n",
       "    'High': 2100.0,\n",
       "    'Poly': poly1d([ 2.32221e-08, -1.35379e-04,  2.68796e-01, -1.56010e+02])}},\n",
       "  'Limit': {'Minimum': 769.119, 'Maximum': 2100.0}},\n",
       " 'la': {'Energies': {'654': {'Low': 654.0,\n",
       "    'High': 1700.0,\n",
       "    'Poly': poly1d([ 5.1239781e-20, -3.6007756e-16,  1.0820994e-12, -1.7983774e-09,\n",
       "            1.7879222e-06, -1.0666011e-03,  3.6850100e-01, -4.3829175e+01])}},\n",
       "  'Limit': {'Minimum': 654.0, 'Maximum': 1700.0}}}"
      ]
     },
     "execution_count": 107,
     "metadata": {},
     "output_type": "execute_result"
    }
   ],
   "source": [
    "k"
   ]
  },
  {
   "cell_type": "code",
   "execution_count": 96,
   "id": "5566431a-c3ff-499e-af27-f0a15ad6c336",
   "metadata": {},
   "outputs": [],
   "source": [
    " k={'la': {'Energies': {'654': {'Low': 654.0,'High': 1700.0}},\n",
    "  'Limit': {'Minimum': 654.0, 'Maximum': 1700.0}}}"
   ]
  },
  {
   "cell_type": "code",
   "execution_count": null,
   "id": "285cae6f-4787-4213-ac55-d68c1015e545",
   "metadata": {},
   "outputs": [],
   "source": [
    "{'654': {'Low': 654.0,\n",
    "    'High': 1700.0,\n",
    "    'Poly': poly1d([ 5.1239781e-20, -3.6007756e-16,  1.0820994e-12, -1.7983774e-09,\n",
    "            1.7879222e-06, -1.0666011e-03,  3.6850100e-01, -4.3829175e+01])}},\n",
    "  'Limit': {'Minimum': 654.0, 'Maximum': 1700.0}}"
   ]
  },
  {
   "cell_type": "code",
   "execution_count": 89,
   "id": "82335624-4c7f-4e67-8974-561bd8730257",
   "metadata": {},
   "outputs": [],
   "source": [
    " k={'la': {'Limits': {'Minimum': 654.0, 'Maximum': 1700.0}}}"
   ]
  },
  {
   "cell_type": "code",
   "execution_count": 82,
   "id": "c649bb52-d6db-4351-96cb-63d58d32c787",
   "metadata": {},
   "outputs": [
    {
     "data": {
      "text/plain": [
       "{'Limit': {'Minimum': 654.0, 'Maximum': 1700.0}}"
      ]
     },
     "execution_count": 82,
     "metadata": {},
     "output_type": "execute_result"
    }
   ],
   "source": [
    "k[\"la\"]"
   ]
  },
  {
   "cell_type": "code",
   "execution_count": 114,
   "id": "35dabdc8-ae79-4cbb-9e20-c191321d8210",
   "metadata": {},
   "outputs": [
    {
     "ename": "RuntimeError",
     "evalue": "no validator found for <class 'numpy.poly1d'>, see `arbitrary_types_allowed` in Config",
     "output_type": "error",
     "traceback": [
      "\u001b[0;31m---------------------------------------------------------------------------\u001b[0m",
      "\u001b[0;31mRuntimeError\u001b[0m                              Traceback (most recent call last)",
      "Cell \u001b[0;32mIn[114], line 9\u001b[0m\n\u001b[1;32m      7\u001b[0m     Minimum: \u001b[38;5;28mfloat\u001b[39m\n\u001b[1;32m      8\u001b[0m     Maximum: \u001b[38;5;28mfloat\u001b[39m\n\u001b[0;32m----> 9\u001b[0m \u001b[38;5;28;43;01mclass\u001b[39;49;00m\u001b[43m \u001b[49m\u001b[38;5;21;43;01mLaa\u001b[39;49;00m\u001b[43m(\u001b[49m\u001b[43mBaseModel\u001b[49m\u001b[43m)\u001b[49m\u001b[43m:\u001b[49m\n\u001b[1;32m     10\u001b[0m \u001b[43m    \u001b[49m\u001b[43mmodel_config\u001b[49m\u001b[43m \u001b[49m\u001b[38;5;241;43m=\u001b[39;49m\u001b[43m \u001b[49m\u001b[43mConfigDict\u001b[49m\u001b[43m(\u001b[49m\u001b[43marbitrary_types_allowed\u001b[49m\u001b[38;5;241;43m=\u001b[39;49m\u001b[38;5;28;43;01mTrue\u001b[39;49;00m\u001b[43m)\u001b[49m\n\u001b[1;32m     11\u001b[0m \u001b[43m    \u001b[49m\u001b[43mLow\u001b[49m\u001b[43m:\u001b[49m\u001b[38;5;28;43mfloat\u001b[39;49m\n",
      "File \u001b[0;32m/venv/lib/python3.11/site-packages/pydantic/main.py:197\u001b[0m, in \u001b[0;36mpydantic.main.ModelMetaclass.__new__\u001b[0;34m()\u001b[0m\n",
      "File \u001b[0;32m/venv/lib/python3.11/site-packages/pydantic/fields.py:504\u001b[0m, in \u001b[0;36mpydantic.fields.ModelField.infer\u001b[0;34m()\u001b[0m\n",
      "File \u001b[0;32m/venv/lib/python3.11/site-packages/pydantic/fields.py:434\u001b[0m, in \u001b[0;36mpydantic.fields.ModelField.__init__\u001b[0;34m()\u001b[0m\n",
      "File \u001b[0;32m/venv/lib/python3.11/site-packages/pydantic/fields.py:555\u001b[0m, in \u001b[0;36mpydantic.fields.ModelField.prepare\u001b[0;34m()\u001b[0m\n",
      "File \u001b[0;32m/venv/lib/python3.11/site-packages/pydantic/fields.py:829\u001b[0m, in \u001b[0;36mpydantic.fields.ModelField.populate_validators\u001b[0;34m()\u001b[0m\n",
      "File \u001b[0;32m/venv/lib/python3.11/site-packages/pydantic/validators.py:765\u001b[0m, in \u001b[0;36mfind_validators\u001b[0;34m()\u001b[0m\n",
      "\u001b[0;31mRuntimeError\u001b[0m: no validator found for <class 'numpy.poly1d'>, see `arbitrary_types_allowed` in Config"
     ]
    }
   ],
   "source": [
    "from typing import Dict\n",
    "\n",
    "from pydantic import BaseModel\n",
    "from numpy.numpy.polynomial\n",
    "poly1d = TypeVar (\"numpy\")\n",
    "class min_max(BaseModel):\n",
    "    Minimum: float\n",
    "    Maximum: float\n",
    "class Laa(BaseModel):\n",
    "    Low:float\n",
    "    High:float\n",
    "    Poly:np.poly1d\n",
    "    class Config:\n",
    "        arbitrary_types_allowed = True\n",
    "class Cenergy(BaseModel):\n",
    "    __root__: Dict[str, Laa]\n",
    "\n",
    "class Entries (BaseModel):\n",
    "    Energies : Cenergy\n",
    "    Limit:min_max\n",
    "class lookuptable(BaseModel):\n",
    "    model_config = ConfigDict(arbitrary_types_allowed=True)\n",
    "    __root__: Dict[str, Entries]\n",
    "\n",
    "good_data = {\n",
    "  'g': { 'Value': 'va', 'Type': 'ta' },\n",
    "  'b': { 'Value': 'vb', 'Type': 'tb' },\n",
    "}\n",
    "\n",
    "bad_data = {\n",
    "  'a': { 'Value': 'va', 'Type': 'ta' },\n",
    "  'b': { 'Value': 'vb' },\n",
    "}"
   ]
  },
  {
   "cell_type": "code",
   "execution_count": 110,
   "id": "ad3b3efd-572a-478a-9845-af0624020331",
   "metadata": {},
   "outputs": [
    {
     "ename": "ValidationError",
     "evalue": "6 validation errors for lookuptable\n__root__ -> lh -> Limits\n  field required (type=value_error.missing)\n__root__ -> lv -> Limits\n  field required (type=value_error.missing)\n__root__ -> pc -> Limits\n  field required (type=value_error.missing)\n__root__ -> nc -> Limits\n  field required (type=value_error.missing)\n__root__ -> lh3 -> Limits\n  field required (type=value_error.missing)\n__root__ -> la -> Limits\n  field required (type=value_error.missing)",
     "output_type": "error",
     "traceback": [
      "\u001b[0;31m---------------------------------------------------------------------------\u001b[0m",
      "\u001b[0;31mValidationError\u001b[0m                           Traceback (most recent call last)",
      "Cell \u001b[0;32mIn[110], line 1\u001b[0m\n\u001b[0;32m----> 1\u001b[0m \u001b[43mlookuptable\u001b[49m\u001b[38;5;241;43m.\u001b[39;49m\u001b[43mparse_obj\u001b[49m\u001b[43m(\u001b[49m\u001b[43mk\u001b[49m\u001b[43m)\u001b[49m\n",
      "File \u001b[0;32m/venv/lib/python3.11/site-packages/pydantic/main.py:526\u001b[0m, in \u001b[0;36mpydantic.main.BaseModel.parse_obj\u001b[0;34m()\u001b[0m\n",
      "File \u001b[0;32m/venv/lib/python3.11/site-packages/pydantic/main.py:341\u001b[0m, in \u001b[0;36mpydantic.main.BaseModel.__init__\u001b[0;34m()\u001b[0m\n",
      "\u001b[0;31mValidationError\u001b[0m: 6 validation errors for lookuptable\n__root__ -> lh -> Limits\n  field required (type=value_error.missing)\n__root__ -> lv -> Limits\n  field required (type=value_error.missing)\n__root__ -> pc -> Limits\n  field required (type=value_error.missing)\n__root__ -> nc -> Limits\n  field required (type=value_error.missing)\n__root__ -> lh3 -> Limits\n  field required (type=value_error.missing)\n__root__ -> la -> Limits\n  field required (type=value_error.missing)"
     ]
    }
   ],
   "source": [
    "lookuptable.parse_obj(k)"
   ]
  },
  {
   "cell_type": "code",
   "execution_count": 8,
   "id": "5c911eb8-d0ad-4ca3-8b72-13a615cd4845",
   "metadata": {},
   "outputs": [
    {
     "data": {
      "text/plain": [
       "'SR10I-MO-STAT-21:'"
      ]
     },
     "execution_count": 8,
     "metadata": {},
     "output_type": "execute_result"
    }
   ],
   "source": [
    "split_pv = \"SR10I-MO-SERVC-21:\".split(\"-\")\n",
    "split_pv[0] + \"-\" +split_pv[1] + \"-STAT\"+\"-\"+split_pv[3]"
   ]
  },
  {
   "cell_type": "code",
   "execution_count": null,
   "id": "d5d45ce2-c9e3-45e9-9164-d41739dc4d6c",
   "metadata": {},
   "outputs": [],
   "source": [
    "import csv\n",
    "\n",
    "\n",
    "def load_lookup_table(filename):\n",
    "    '''read a CSV file storing lookup table and create a dictionar using values in the fisrt 4 columns as key and return both dictionary and header\n",
    "    '''\n",
    "    with open(filename) as csv_data:\n",
    "        reader = csv.reader(csv_data)\n",
    "        rows = [row for row in reader if row or not row.startswith('#')]\n",
    "        header = rows[0]\n",
    "\n",
    "    lookuptable = {}\n",
    "    for row in rows[1:]:\n",
    "        # print row\n",
    "        lookuptable[(row[0], row[1], float(row[2]), float(row[3]))] = [float(item) for item in row[4:]]\n",
    "    return lookuptable, header"
   ]
  },
  {
   "cell_type": "code",
   "execution_count": null,
   "id": "ae6b413f-5c2b-45d8-9861-4ec3aae15456",
   "metadata": {},
   "outputs": [],
   "source": [
    "result=load_lookup_table(\"/workspaces/dodal/tests/devices/i10/lookupTables/IDEnergy2GapCalibrations.csv\")"
   ]
  },
  {
   "cell_type": "code",
   "execution_count": null,
   "id": "49ff9c40-1e25-4e63-8faa-e036142c2c48",
   "metadata": {},
   "outputs": [],
   "source": [
    "with open(\"/workspaces/dodal/tests/devices/i10/lookupTables/IDEnergy2GapCalibrations.csv\", newline='') as csvfile:\n",
    "\n",
    "    reader = csv.DictReader(csvfile)\n",
    "    result = sorted(reader, key=lambda d: float(d['MinEnergy']))\n",
    "    for row in result:\n",
    "        if(float(row[\"MaxEnergy\"])>600):\n",
    "            print(row[\"MaxEnergy\"])"
   ]
  },
  {
   "cell_type": "code",
   "execution_count": null,
   "id": "85a0c336-8e23-4913-9337-d6564e5f4c06",
   "metadata": {},
   "outputs": [],
   "source": []
  },
  {
   "cell_type": "code",
   "execution_count": null,
   "id": "9a2ea13b-1671-41f6-bc79-19b9288e2652",
   "metadata": {},
   "outputs": [],
   "source": [
    "k = {\"idd\":{\"pc\":{1},\"nc\":{2}},\n",
    "     \"idu\":{\"pc\":{1},\"nc\":{2}}}"
   ]
  },
  {
   "cell_type": "code",
   "execution_count": null,
   "id": "017804f2-a1a1-423c-bcd9-6c9a76a8caa9",
   "metadata": {},
   "outputs": [],
   "source": [
    "k[\"idd\"][\"pc\"]"
   ]
  },
  {
   "cell_type": "code",
   "execution_count": null,
   "id": "fc9fa2c7-ad13-440d-ab39-e30716ca581e",
   "metadata": {},
   "outputs": [],
   "source": [
    "import pandas as pd"
   ]
  },
  {
   "cell_type": "code",
   "execution_count": null,
   "id": "20fd5287-ee7e-42fa-9dfa-2a9dc175e2d3",
   "metadata": {},
   "outputs": [],
   "source": [
    "df = pd.read_csv(\"/workspaces/dodal/src/lookupTables/IDEnergy2GapCalibrations.csv\")"
   ]
  },
  {
   "cell_type": "code",
   "execution_count": null,
   "id": "86b36042-db8d-4b14-89f9-677cba0b342e",
   "metadata": {},
   "outputs": [],
   "source": [
    "source = (\"Source\",\"idd\")"
   ]
  },
  {
   "cell_type": "code",
   "execution_count": null,
   "id": "ef671a59-02cb-43c1-ace3-9755591dbf18",
   "metadata": {},
   "outputs": [],
   "source": [
    "idd = df[df[source[0]] == source[1]]"
   ]
  },
  {
   "cell_type": "code",
   "execution_count": null,
   "id": "d39fbf11-51c9-47e7-9f28-a1cbf4bb8d6f",
   "metadata": {},
   "outputs": [],
   "source": [
    "idd = idd.drop(source[0], axis=1)"
   ]
  },
  {
   "cell_type": "code",
   "execution_count": null,
   "id": "231e9a70-709a-4606-861d-616a86cf9e51",
   "metadata": {},
   "outputs": [],
   "source": [
    "idd"
   ]
  },
  {
   "cell_type": "code",
   "execution_count": null,
   "id": "0ae8975f-beba-46c1-9ced-9c6195b7e5dd",
   "metadata": {},
   "outputs": [],
   "source": [
    "temp_df: pd.DataFrame = df[df[\"Mode\"] == \"lv\"].drop(\"Mode\", axis=1).sort_values(by=\"MaxEnergy\")"
   ]
  },
  {
   "cell_type": "code",
   "execution_count": null,
   "id": "97dc0e29-90c3-4062-b620-17245e2741b2",
   "metadata": {},
   "outputs": [],
   "source": [
    "temp_df"
   ]
  },
  {
   "cell_type": "code",
   "execution_count": null,
   "id": "ee9957ba-7e09-41bf-b543-d6c050f6cab6",
   "metadata": {},
   "outputs": [],
   "source": [
    "iddict = {}\n",
    "for i in id_modes:\n",
    "    temp_df = idd[idd[\"Mode\"]==i].drop(\"Mode\", axis=1)\n",
    "    iddict[i]= {}\n",
    "    ecounter = 0\n",
    "    for __, row in temp_df.iterrows():\n",
    "        poly = np.poly1d(row.values[::-1])\n",
    "        print(row.values[::-1])\n",
    "        iddict[i][f\"Energy{ecounter}\"]= {\"min\":row.values[0],\"max\":row.values[1],\"poly\":poly}\n",
    "        ecounter+=1"
   ]
  },
  {
   "cell_type": "code",
   "execution_count": null,
   "id": "f5d1f275-2292-473b-bb65-9ec6c9d9ae52",
   "metadata": {},
   "outputs": [],
   "source": [
    "iddict.keys()"
   ]
  },
  {
   "cell_type": "code",
   "execution_count": null,
   "id": "28b5d8b7-e35e-4e59-92a7-ef064d7bb335",
   "metadata": {},
   "outputs": [],
   "source": [
    "import numpy as np"
   ]
  },
  {
   "cell_type": "code",
   "execution_count": null,
   "id": "e9fbc1c4-e633-4b00-94fb-87a049d68392",
   "metadata": {},
   "outputs": [],
   "source": [
    "w[w.MaxEnergy<500]"
   ]
  },
  {
   "cell_type": "code",
   "execution_count": 7,
   "id": "fa4d89bd-4e74-49d5-bbc5-e7e5e87e519c",
   "metadata": {},
   "outputs": [],
   "source": [
    "import numpy as np"
   ]
  },
  {
   "cell_type": "code",
   "execution_count": 8,
   "id": "e1b12e56-e79a-4343-ae67-28130a1a64aa",
   "metadata": {},
   "outputs": [],
   "source": [
    "x = np.arange(610,1200)\n",
    "y = [1400.13845, -13.0099589\t,0.0518055008,\t-0.000113471444\t,1.47749738E-07,\t-1.14420814E-10,\t4.88195989E-14,\t-8.85680201E-18]\n",
    "fit = np.poly1d(y[::-1])"
   ]
  },
  {
   "cell_type": "code",
   "execution_count": 9,
   "id": "c77d79ca-297c-4746-9cbe-5fc269fe6c83",
   "metadata": {},
   "outputs": [],
   "source": [
    "import matplotlib.pyplot as plt"
   ]
  },
  {
   "cell_type": "code",
   "execution_count": 13,
   "id": "6da755bb-59c2-4c96-870e-ed3ea054ad0d",
   "metadata": {},
   "outputs": [
    {
     "data": {
      "text/plain": [
       "[<matplotlib.lines.Line2D at 0x7f98b619a390>]"
      ]
     },
     "execution_count": 13,
     "metadata": {},
     "output_type": "execute_result"
    },
    {
     "data": {
      "image/png": "[encoded data removed]",
      "text/plain": [
       "<Figure size 640x480 with 1 Axes>"
      ]
     },
     "metadata": {},
     "output_type": "display_data"
    }
   ],
   "source": [
    "plt.plot(x,fit(x))"
   ]
  },
  {
   "cell_type": "code",
   "execution_count": null,
   "id": "12ebf92b-bdbe-4414-8264-11dd2a6dc168",
   "metadata": {},
   "outputs": [],
   "source": []
  }
 ],
 "metadata": {
  "kernelspec": {
   "display_name": "Python 3 (ipykernel)",
   "language": "python",
   "name": "python3"
  },
  "language_info": {
   "codemirror_mode": {
    "name": "ipython",
    "version": 3
   },
   "file_extension": ".py",
   "mimetype": "text/x-python",
   "name": "python",
   "nbconvert_exporter": "python",
   "pygments_lexer": "ipython3",
   "version": "3.11.9"
  }
 },
 "nbformat": 4,
 "nbformat_minor": 5
}
