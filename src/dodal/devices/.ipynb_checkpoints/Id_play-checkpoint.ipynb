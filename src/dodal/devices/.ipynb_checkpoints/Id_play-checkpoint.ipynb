{
    "cells": [
        {
            "cell_type": "code",
            "execution_count": 1,
            "id": "b13dab05-d065-4b74-8401-74b84695b8d3",
            "metadata": {},
            "outputs": [],
            "source": [
                "import asyncio\n",
                "\n",
                "from apple2_undulator import (\n",
                "    UndulatorPhaseAxes,\n",
                "    UndulatorGap,\n",
                "    UndulatorJawPhase\n",
                ")\n",
                "from bluesky import RunEngine\n",
                "from bluesky.callbacks.best_effort import BestEffortCallback\n",
                "from pgm import PGM\n",
                "\n",
                "from dodal.devices.i10.i10_apple2 import I10Apple2, I10Apple2PGM, I10Apple2Pol \n",
                "\n",
                "RE = RunEngine({})\n",
                "bec = BestEffortCallback()\n",
                "from pathlib import Path\n",
                "import bluesky.plan_stubs as bps\n",
                "from ophyd_async.core import DeviceCollector\n",
                "\n",
                "from dodal.devices.i10.i10_setting_data import I10Grating"
            ]
        },
        {
            "cell_type": "code",
            "execution_count": 2,
            "id": "8280232e-edb6-465f-b9f1-e9452fb38623",
            "metadata": {},
            "outputs": [],
            "source": [
                "with DeviceCollector():\n",
                "    i10PGM = PGM(prefix=\"BL10I-OP-PGM-01:\", grating=I10Grating, gratingPv=\"NLINES2\")\n",
                "    i10_id_gap = UndulatorGap(\"SR10I-MO-SERVC-21:\")\n",
                "    i10_id_phase = UndulatorPhaseAxes(prefix=\"SR10I-MO-SERVC-21:\",top_outer= \"RPQ1\",top_inner= \"RPQ2\",btm_outer= \"RPQ4\",btm_inner= \"RPQ3\")\n",
                "    i10_id_jaw = UndulatorJawPhase(prefix=\"SR10I-MO-SERVC-21:\", move_pv=\"RPQ1\", jawPhase=\"JAW\")\n",
                "    id10 = I10Apple2(id_gap=i10_id_gap, id_phase=i10_id_phase,\n",
                "                          energy_gap_table_path = Path(\"/workspaces/dodal/tests/devices/i10/lookupTables/IDEnergy2GapCalibrations.csv\",),\n",
                "                          energy_phase_table_path= Path(\"/workspaces/dodal/tests/devices/i10/lookupTables/IDEnergy2PhaseCalibrations.csv\",),\n",
                "                          id_jaw_phase= i10_id_jaw,\n",
                "                     source =(\"Source\",\"idu\"))\n",
                "    i10_energy = I10Apple2PGM(id=id10, pgm= i10PGM)\n",
                "    i10_pol = I10Apple2Pol(id=id10)\n",
                "    # upa21 = UndulatorPhaseAxes(prefix = 'SR21I-MO-SERVC-01:',\n",
                "    #                           top_outer= \"PUO\",\n",
                "    #                           top_inner= \"PUI\",\n",
                "    #                           btm_outer= \"PLO\",\n",
                "    #                           btm_inner= \"PLI\"\n",
                "    #                          )"
            ]
        },
        {
            "cell_type": "code",
            "execution_count": null,
            "id": "8d2d8870-3c41-44cd-ab69-dffbae96e71f",
            "metadata": {},
            "outputs": [],
            "source": [
                "result = await i10_id_phase.top_inner.high_limit_travel.get_value()\n",
                "print(await id10.polarisation.get_value())"
            ]
        },
        {
            "cell_type": "code",
            "execution_count": null,
            "id": "77bce90a-f5eb-4383-b27c-c15e0c9b1e0c",
            "metadata": {},
            "outputs": [],
            "source": [
                "RE(bps.abs_set(id10, 500))"
            ]
        },
        {
            "cell_type": "code",
            "execution_count": null,
            "id": "715eb79c-ea44-44db-ba70-c771b4918cac",
            "metadata": {},
            "outputs": [],
            "source": [
                "result  =await  id10.read()\n",
                "print(result)"
            ]
        },
        {
            "cell_type": "code",
            "execution_count": null,
            "id": "0e14809a-512c-4826-a418-8f6e782927ce",
            "metadata": {},
            "outputs": [],
            "source": [
                "print(id10.pol)"
            ]
        },
        {
            "cell_type": "code",
            "execution_count": null,
            "id": "32c97a3b-153e-4bc8-9885-838f00e9cf45",
            "metadata": {},
            "outputs": [],
            "source": [
                "result  =await  i10_energy.read()\n",
                "print(result)\n",
                "result  =await  i10_pol.read()\n",
                "print(result)"
            ]
        },
        {
            "cell_type": "code",
            "execution_count": null,
            "id": "7f56526a-8a8d-400e-a89d-082c075fa600",
            "metadata": {},
            "outputs": [],
            "source": [
                "result[\"id10-gap-user_readback\"][\"value\"]"
            ]
        },
        {
            "cell_type": "code",
            "execution_count": null,
            "id": "0c5549b6-d272-41c9-b1ed-dab96705dd16",
            "metadata": {},
            "outputs": [],
            "source": [
                "result = asyncio.gather(id10.read_configuration())#,upa21.read_configuration(), upa09.read_configuration())"
            ]
        },
        {
            "cell_type": "code",
            "execution_count": null,
            "id": "274c1968-93a6-44b8-89d3-ddaf0cb6fc2d",
            "metadata": {},
            "outputs": [],
            "source": [
                "import numpy as np\n",
                "\n",
                "\n",
                "async def test():\n",
                "    return np.max(await asyncio.gather(id10.gap.get_timeout(), id10.phase.get_timeout()))"
            ]
        },
        {
            "cell_type": "code",
            "execution_count": null,
            "id": "4c36d5f7-b662-4b27-ba00-4ccfcb7e5ec9",
            "metadata": {},
            "outputs": [],
            "source": [
                "k=asyncio.gather(test())"
            ]
        },
        {
            "cell_type": "code",
            "execution_count": null,
            "id": "a8af9acb-729c-4b82-aca9-9db5aa30a1fc",
            "metadata": {},
            "outputs": [],
            "source": [
                "k"
            ]
        },
        {
            "cell_type": "code",
            "execution_count": null,
            "id": "6fad6337-7b66-4f2c-968c-647f9000fedb",
            "metadata": {},
            "outputs": [],
            "source": [
                "i10_phase_axis_pv.read_pv"
            ]
        },
        {
            "cell_type": "code",
            "execution_count": null,
            "id": "88de1b1f-cfa6-412d-ba48-ce76eff88da3",
            "metadata": {},
            "outputs": [],
            "source": [
                "upa10 = UndulatorPhaseAxes(prefix = 'SR10I-MO-', top_outer= top_outer,top_inner= top_inner, btm_outer= btm_outer, btm_inter= btm_inter)"
            ]
        },
        {
            "cell_type": "code",
            "execution_count": null,
            "id": "ca7f8fc7-1708-497c-8574-a9538790e1ac",
            "metadata": {},
            "outputs": [],
            "source": [
                "RE(bps.abs_set(ug1, \"23.1\"))"
            ]
        },
        {
            "cell_type": "code",
            "execution_count": null,
            "id": "0c97cc57-e160-4ab0-bee0-4c6d79b81e2f",
            "metadata": {},
            "outputs": [],
            "source": [
                "from epics import caget"
            ]
        },
        {
            "cell_type": "code",
            "execution_count": null,
            "id": "7d10b5a1-1e72-454e-8b18-839d4e5663ca",
            "metadata": {},
            "outputs": [],
            "source": [
                "caget(\"SR10I-MO-STAT-21:ANYFAULT\")\n"
            ]
        },
        {
            "cell_type": "code",
            "execution_count": null,
            "id": "8bfd191b-f583-4eaa-ae55-e0c00b26e176",
            "metadata": {},
            "outputs": [],
            "source": [
                "caget(\"SR21I-MO-SERVC-01:BLGAPMTR.HLM\")\n"
            ]
        },
        {
            "cell_type": "code",
            "execution_count": null,
            "id": "b2921e6c-e5fd-4276-bebd-8c703d85216b",
            "metadata": {},
            "outputs": [],
            "source": [
                "def new_pos():\n",
                "    output = range(0, 11, 1)\n",
                "    for i in output:\n",
                "        yield i"
            ]
        },
        {
            "cell_type": "code",
            "execution_count": null,
            "id": "4a24bb25-318f-4d98-b791-443a706415eb",
            "metadata": {},
            "outputs": [],
            "source": [
                "k= new_pos()\n"
            ]
        },
        {
            "cell_type": "code",
            "execution_count": null,
            "id": "1c6e80f4-d746-49a0-839a-60ba93fd1896",
            "metadata": {},
            "outputs": [],
            "source": [
                "next(k)"
            ]
        },
        {
            "cell_type": "code",
            "execution_count": null,
            "id": "a31af988-d39e-4490-87f4-187abd253c45",
            "metadata": {},
            "outputs": [],
            "source": [
                "result"
            ]
        },
        {
            "cell_type": "code",
            "execution_count": null,
            "id": "c1036834-831a-4769-b78e-671dae96c8d0",
            "metadata": {},
            "outputs": [],
            "source": [
                "from ophyd_async.epics.motion import Motor\n",
                "\n",
                "i10motor = Motor(prefix=\"SR10I-MO-SERVC-01:BLRPQ1MTR\")"
            ]
        },
        {
            "cell_type": "code",
            "execution_count": null,
            "id": "f47a617b-d837-49b6-9596-3dcc7e20aee3",
            "metadata": {},
            "outputs": [],
            "source": [
                "result = asyncio.gather(i10motor.connect())"
            ]
        },
        {
            "cell_type": "code",
            "execution_count": null,
            "id": "536dc75e-6478-43cd-a410-8a1c7a295506",
            "metadata": {},
            "outputs": [],
            "source": [
                "result"
            ]
        },
        {
            "cell_type": "code",
            "execution_count": null,
            "id": "e7924dcc-c266-4409-9ed6-98c1263b8e50",
            "metadata": {},
            "outputs": [],
            "source": [
                "result = asyncio.gather(i10motor.user_setpoint.get_value(), i10motor.user_readback.get_value())"
            ]
        },
        {
            "cell_type": "code",
            "execution_count": null,
            "id": "24b95866-2262-4eb6-bede-7090656f8d7a",
            "metadata": {},
            "outputs": [],
            "source": [
                "result"
            ]
        },
        {
            "cell_type": "code",
            "execution_count": null,
            "id": "cbbed4fa-9df5-4d29-a5d8-d0c37d43746f",
            "metadata": {},
            "outputs": [],
            "source": [
                "sp = (2,4,6)\n",
                "x= (1,5,7)\n",
                "y = (2,6,9)"
            ]
        },
        {
            "cell_type": "code",
            "execution_count": null,
            "id": "e0c2bd91-0c69-4ed7-99a5-8ed3a4237c4b",
            "metadata": {},
            "outputs": [],
            "source": [
                "import numpy as np\n",
                "\n",
                "result = np.abs(np.divide(tuple(np.subtract(x, y)), sp))"
            ]
        },
        {
            "cell_type": "code",
            "execution_count": null,
            "id": "5a8808e6-70ff-4531-8729-d9cf09f9149f",
            "metadata": {},
            "outputs": [],
            "source": [
                "result.min()"
            ]
        },
        {
            "cell_type": "code",
            "execution_count": null,
            "id": "b29f3abd-29a2-4659-aaf3-73383a1873f0",
            "metadata": {},
            "outputs": [],
            "source": []
        }
    ],
    "metadata": {
        "kernelspec": {
            "display_name": "Python 3 (ipykernel)",
            "language": "python",
            "name": "python3"
        },
        "language_info": {
            "codemirror_mode": {
                "name": "ipython",
                "version": 3
            },
            "file_extension": ".py",
            "mimetype": "text/x-python",
            "name": "python",
            "nbconvert_exporter": "python",
            "pygments_lexer": "ipython3",
            "version": "3.11.9"
        }
    },
    "nbformat": 4,
    "nbformat_minor": 5
}
